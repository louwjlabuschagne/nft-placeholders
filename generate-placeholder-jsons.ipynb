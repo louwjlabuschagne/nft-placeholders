{
 "cells": [
  {
   "cell_type": "code",
   "execution_count": 1,
   "id": "cc0f3a1b",
   "metadata": {
    "ExecuteTime": {
     "end_time": "2021-11-09T07:55:20.310465Z",
     "start_time": "2021-11-09T07:55:19.986586Z"
    }
   },
   "outputs": [],
   "source": [
    "import json\n",
    "from PIL import Image, ImageDraw, ImageFont\n",
    "import plotly.express as px\n",
    "from pathlib import Path"
   ]
  },
  {
   "cell_type": "code",
   "execution_count": 2,
   "id": "73cf6dd5",
   "metadata": {
    "ExecuteTime": {
     "end_time": "2021-11-09T07:55:20.313853Z",
     "start_time": "2021-11-09T07:55:20.311554Z"
    }
   },
   "outputs": [],
   "source": [
    "img_dir = Path('./img')\n",
    "json_dir = Path('./json')\n",
    "\n",
    "img_dir.mkdir(exist_ok=True)\n",
    "json_dir.mkdir(exist_ok=True)"
   ]
  },
  {
   "cell_type": "code",
   "execution_count": 3,
   "id": "a1d000eb",
   "metadata": {
    "ExecuteTime": {
     "end_time": "2021-11-09T07:55:20.318884Z",
     "start_time": "2021-11-09T07:55:20.315795Z"
    }
   },
   "outputs": [],
   "source": [
    "def hex_to_rgb(hex_str):\n",
    "    h = hex_str.lstrip('#')\n",
    "    return tuple(int(h[i:i+2], 16) for i in (0, 2, 4))"
   ]
  },
  {
   "cell_type": "code",
   "execution_count": 4,
   "id": "d2fad112",
   "metadata": {
    "ExecuteTime": {
     "end_time": "2021-11-09T07:55:20.323515Z",
     "start_time": "2021-11-09T07:55:20.319696Z"
    }
   },
   "outputs": [],
   "source": [
    "colors = [hex_to_rgb(c) for c in px.colors.cyclical.Edge]"
   ]
  },
  {
   "cell_type": "code",
   "execution_count": 5,
   "id": "05450c2c",
   "metadata": {
    "ExecuteTime": {
     "end_time": "2021-11-09T07:55:20.328349Z",
     "start_time": "2021-11-09T07:55:20.324254Z"
    }
   },
   "outputs": [],
   "source": [
    "def gen_image(number:int, colors, filepath):\n",
    "    w = 300\n",
    "    h = 300\n",
    "\n",
    "    img = Image.new('RGB',\n",
    "                    (w, h),\n",
    "                    color=colors[number%len(colors)])\n",
    "    canvas = ImageDraw.Draw(img)\n",
    "    font = ImageFont.truetype('Lato-Bold.ttf', size=36)\n",
    "    canvas.text((w/2,\n",
    "                 h/2),\n",
    "                f\"{i}\",\n",
    "                anchor='mm',\n",
    "                font=font,\n",
    "                fill='#000000')\n",
    "    img.save(filepath)"
   ]
  },
  {
   "cell_type": "code",
   "execution_count": 6,
   "id": "03186b42",
   "metadata": {
    "ExecuteTime": {
     "end_time": "2021-11-09T07:55:20.333287Z",
     "start_time": "2021-11-09T07:55:20.329288Z"
    }
   },
   "outputs": [],
   "source": [
    "base_uri = 'https://raw.githubusercontent.com/louwjlabuschagne/nft-placeholders/master/'"
   ]
  },
  {
   "cell_type": "code",
   "execution_count": 7,
   "id": "7371b7d5",
   "metadata": {
    "ExecuteTime": {
     "end_time": "2021-11-09T07:55:20.338056Z",
     "start_time": "2021-11-09T07:55:20.334055Z"
    }
   },
   "outputs": [],
   "source": [
    "template = {\n",
    "    \"image\":\"\",\n",
    "    \"description\":\"\",\n",
    "    \"name\":\"\",\n",
    "}\n"
   ]
  },
  {
   "cell_type": "code",
   "execution_count": 8,
   "id": "7d3d82a0",
   "metadata": {
    "ExecuteTime": {
     "end_time": "2021-11-09T07:55:20.398051Z",
     "start_time": "2021-11-09T07:55:20.338832Z"
    }
   },
   "outputs": [],
   "source": [
    "for i in range(1, 11):\n",
    "    imgpath = img_dir/f'{i}.jpeg'\n",
    "    jsonpath = json_dir/f'{i}.json'\n",
    "    template['image'] = f'{base_uri}{imgpath}'\n",
    "    template['description'] = f'description: {i}'\n",
    "    template['name'] = f'name: {i}'\n",
    "    gen_image(i, colors, imgpath)\n",
    "    json.dump(template, open(jsonpath, 'w+'))"
   ]
  },
  {
   "cell_type": "code",
   "execution_count": null,
   "id": "3aa84a23",
   "metadata": {
    "ExecuteTime": {
     "end_time": "2021-11-09T07:48:43.007578Z",
     "start_time": "2021-11-09T07:48:43.000409Z"
    }
   },
   "outputs": [],
   "source": []
  },
  {
   "cell_type": "code",
   "execution_count": null,
   "id": "b4e83a5d",
   "metadata": {},
   "outputs": [],
   "source": []
  }
 ],
 "metadata": {
  "kernelspec": {
   "display_name": "Python 3 (ipykernel)",
   "language": "python",
   "name": "python3"
  },
  "language_info": {
   "codemirror_mode": {
    "name": "ipython",
    "version": 3
   },
   "file_extension": ".py",
   "mimetype": "text/x-python",
   "name": "python",
   "nbconvert_exporter": "python",
   "pygments_lexer": "ipython3",
   "version": "3.8.11"
  },
  "toc": {
   "base_numbering": 1,
   "nav_menu": {},
   "number_sections": true,
   "sideBar": true,
   "skip_h1_title": false,
   "title_cell": "Table of Contents",
   "title_sidebar": "Contents",
   "toc_cell": false,
   "toc_position": {},
   "toc_section_display": true,
   "toc_window_display": false
  },
  "varInspector": {
   "cols": {
    "lenName": 16,
    "lenType": 16,
    "lenVar": 40
   },
   "kernels_config": {
    "python": {
     "delete_cmd_postfix": "",
     "delete_cmd_prefix": "del ",
     "library": "var_list.py",
     "varRefreshCmd": "print(var_dic_list())"
    },
    "r": {
     "delete_cmd_postfix": ") ",
     "delete_cmd_prefix": "rm(",
     "library": "var_list.r",
     "varRefreshCmd": "cat(var_dic_list()) "
    }
   },
   "types_to_exclude": [
    "module",
    "function",
    "builtin_function_or_method",
    "instance",
    "_Feature"
   ],
   "window_display": false
  }
 },
 "nbformat": 4,
 "nbformat_minor": 5
}
